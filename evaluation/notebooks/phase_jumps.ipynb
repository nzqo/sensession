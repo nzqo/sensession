{
 "cells": [
  {
   "cell_type": "code",
   "execution_count": null,
   "id": "375db7c5-61ed-4ab8-a85a-563332920f89",
   "metadata": {},
   "outputs": [],
   "source": [
    "from sensession.campaign import CampaignProcessor\n",
    "\n",
    "import polars as pl\n",
    "import numpy as np\n",
    "\n",
    "from pathlib import Path\n",
    "from IPython.display import display"
   ]
  },
  {
   "cell_type": "markdown",
   "id": "41020bbe-1efc-4f96-94fa-fea73d0ccd2c",
   "metadata": {},
   "source": [
    "# Data loading\n",
    "\n",
    "Jupyter was a bit finicky to get to work with the large amounts of data (read: RAM) required to perform preprocessing. Instead, we have a script in `evaluation/preprocess_single_scs.py` that performs the necessary preprocessing steps and stores checkpoints on disk of the corresponding data.\n",
    "\n",
    "In this notebook, we simply load the data from the checkpoints and visualize the results. In other words: The preprocessing must be run on recorded data before running this notebook.\n",
    "\n",
    "## Zeroth preprocessing: \"Cleaning\"\n",
    "\n",
    "The first steps only involve discarding invalid subcarriers and dropping values irrelevant for this notebook to save some memory."
   ]
  },
  {
   "cell_type": "code",
   "execution_count": null,
   "id": "c25f31e4-a15d-423e-9d2e-c2023d7ca950",
   "metadata": {},
   "outputs": [],
   "source": [
    "all_receivers_expr = [\n",
    "    pl.col(\"receiver_name\") == \"asus1\",\n",
    "    pl.col(\"receiver_name\") == \"asus2\",\n",
    "    pl.col(\"receiver_name\") == \"qca\",\n",
    "    pl.col(\"receiver_name\") == \"ESP32_S3\",\n",
    "    pl.col(\"receiver_name\") == \"ax210\",\n",
    "    pl.col(\"receiver_name\") == \"iwl5300\",\n",
    "    pl.col(\"receiver_name\") == \"x310\",\n",
    "]\n",
    "\n",
    "proc = CampaignProcessor(\n",
    "    meta_attach_cols={\"modified_idx\", \"session_nr\"},\n",
    "    checkpoint_dir=Path.cwd()\n",
    "    / \"..\"\n",
    "    / \"..\"\n",
    "    / \".cache\"\n",
    "    / \"checkpoints\"\n",
    "    / \"single_phases\",\n",
    "    lazy=True,\n",
    ")\n",
    "\n",
    "\n",
    "proc = proc.load_checkpoint(\"00_subc_cleaned\")  # .meta_attach(\"session_nr\")\n",
    "\n",
    "with pl.Config(tbl_cols=-1):\n",
    "    display(proc.meta.head().collect())\n",
    "    display(proc.csi.head().collect())"
   ]
  },
  {
   "cell_type": "markdown",
   "id": "cb51a08c-2a28-421b-81e7-283fa22de627",
   "metadata": {},
   "source": [
    "## Raw Amplitudes\n",
    "\n",
    "Next, we take a look at the raw amplitudes during warmup sessions.\n",
    "\n",
    "Warmup sessions consist of repeatedly ($500$ times) retransmitting the exact same unmodified WiFi frame, i.e. where we expect flat CSI."
   ]
  },
  {
   "cell_type": "code",
   "execution_count": null,
   "id": "084fd57a-e28d-49d5-bba1-4572eb849ede",
   "metadata": {},
   "outputs": [],
   "source": [
    "proc.csi.filter(pl.col(\"session_nr\") < 2).filter(\n",
    "    pl.col(\"collection_name\").str.contains(\"warmup\")\n",
    ").select(\n",
    "    \"subcarrier_idxs\", \"csi_abs\", \"collection_name\", \"receiver_name\"\n",
    ").collect().plot.scatter(\n",
    "    x=\"subcarrier_idxs\", y=\"csi_abs\", by=\"collection_name\", groupby=\"receiver_name\"\n",
    ")"
   ]
  },
  {
   "cell_type": "markdown",
   "id": "ee2981fc-bfe6-4632-bdb0-1e4a1abe2c6e",
   "metadata": {},
   "source": [
    "## Correlation\n",
    "\n",
    "We next check how the CSI magnitudes of the warmup sessions are correlated. This means that, for each subcarrier $i$, we interpret the corresponding CSI Amplitude $A_i$ as a random variable. We then compute the Pearson Correlation Coefficients between all of them:\n",
    "\n",
    "$$\n",
    "\\begin{align}\n",
    "\\rho_{i, j} = \\frac{\n",
    "        \\mathbb{E}[A_i - \\mu_i] \\mathbb{E}[A_j - \\mu_j]\n",
    "    }{\n",
    "        \\sigma_i \\sigma_j\n",
    "    }\n",
    "\\end{align}\n",
    "$$\n",
    "\n",
    "where $\\mu_i$ and $\\sigma_i$ are the mean value and standard deviation of $A_i$, respectively.\n",
    "\n",
    "The idea is to find out how the \"natural fluctuations\" are correlated. Does an increase in amplitude in subcarrier $i$ imply an increase in amplitude in subcarrier $j$?"
   ]
  },
  {
   "cell_type": "code",
   "execution_count": null,
   "id": "ae22a393-2b85-4c15-ad27-4f0e630912f0",
   "metadata": {},
   "outputs": [],
   "source": [
    "def plot_corr(df: pl.DataFrame, session_nr: int = 0):\n",
    "    # NOTE: This assumes that we only have one stream and one antenna in the data.\n",
    "    # # Pivot such that one column for each subcarrier\n",
    "    csi = (\n",
    "        df.filter(pl.col(\"collection_name\").str.contains(\"warmup\"))\n",
    "        .filter(pl.col(\"session_nr\") == session_nr)\n",
    "        .collect()  # pivot requires manifestation\n",
    "        .pivot(index=\"capture_num\", on=\"subcarrier_idxs\", values=\"csi_abs\")\n",
    "        .join(\n",
    "            proc.csi.select(\"capture_num\", \"receiver_name\").collect(), on=\"capture_num\"\n",
    "        )\n",
    "        .drop(\"capture_num\")  # Attach receiver_name\n",
    "    )\n",
    "\n",
    "    # Calculate correlation - Between all subcarrier pairs and for every receiver separately\n",
    "    # That is, we want to calculate C_ij(r), i and j being subcarriers, r being the receiver.\n",
    "    # Need to use DataFrame.corr() since pl.corr() only works for 2 variables and we\n",
    "    # have n_subcarrier cross-correlations to consider\n",
    "    corr = (\n",
    "        csi.group_by(\"receiver_name\")\n",
    "        .map_groups(\n",
    "            # NOTE:\n",
    "            # - Have to drop because receiver_name mustn't be considered in correlation\n",
    "            # - Join receiver_name back after calculation\n",
    "            # - Join back index (`i` in above description)\n",
    "            lambda x: (\n",
    "                x.drop(\"receiver_name\")\n",
    "                .corr()\n",
    "                .with_columns(receiver_name=pl.lit(x[\"receiver_name\"][0]))\n",
    "                .with_columns(subcarrier_idx_a=pl.Series(x.columns[:-1]))\n",
    "            )\n",
    "        )\n",
    "        .fill_nan(0)\n",
    "    )\n",
    "\n",
    "    # Unpivot to get a DataFrame with columns:\n",
    "    # r | i | j | C_ij(r)\n",
    "    corr = corr.unpivot(\n",
    "        index=[\"receiver_name\", \"subcarrier_idx_a\"],\n",
    "        variable_name=\"subcarrier_idx_b\",\n",
    "        value_name=\"correlation\",\n",
    "    )\n",
    "\n",
    "    # Plot!\n",
    "    return corr.plot.heatmap(\n",
    "        x=\"subcarrier_idx_a\",\n",
    "        y=\"subcarrier_idx_b\",\n",
    "        C=\"correlation\",\n",
    "        groupby=\"receiver_name\",\n",
    "        colormap=\"rainbow\",\n",
    "    )\n",
    "\n",
    "\n",
    "plot_corr(proc.csi)"
   ]
  },
  {
   "cell_type": "markdown",
   "id": "69205397-a73d-44b1-8e29-3cf29461cb6b",
   "metadata": {},
   "source": [
    "## First preprocessing: Scaling and trending\n",
    "\n",
    "Next, we normalize every CSI packet amplitude individually, using\n",
    "\n",
    "$$\n",
    "\\begin{align}\n",
    "A_i \\mapsto \\frac{A_i}{\\sum_j A_j}\n",
    "\\end{align}\n",
    "$$\n",
    "\n",
    "The sum across subcarriers is a voltage quantity, hence this normalization is akin to ignoring voltage-scaling.\n",
    "\n",
    "We also normalize phases $\\varphi_i$ by fixing the outermost subcarrier phases to zero and applying a phase correction in between.\n",
    "Assume a symmetric subcarrier presence from $-K$ to $K$, then:\n",
    "\n",
    "$$\n",
    "\\begin{align}\n",
    "\\varphi_i \\mapsto \\varphi_i - (i-K) * \\frac{\\varphi_K - \\varphi_{-K}}{2K} - \\varphi_{-K}\n",
    "\\end{align}\n",
    "$$\n",
    "\n",
    "We investigate both amplitudes, a few phases, as well as the correlation from above after these steps."
   ]
  },
  {
   "cell_type": "code",
   "execution_count": null,
   "id": "848af9d6-0858-42dd-bd23-1214919cdc2e",
   "metadata": {},
   "outputs": [],
   "source": [
    "proc = proc.load_checkpoint(\"01_detrended\").meta_attach(\"session_nr\")\n",
    "\n",
    "proc.csi.filter(pl.col(\"session_nr\") < 3).filter(\n",
    "    pl.col(\"collection_name\").str.contains(\"warmup\")\n",
    ").collect().plot.scatter(\n",
    "    x=\"subcarrier_idxs\", y=\"csi_abs\", by=\"collection_name\", groupby=\"receiver_name\"\n",
    ")"
   ]
  },
  {
   "cell_type": "code",
   "execution_count": null,
   "id": "94a31c0b-c682-49a0-b205-ddd9b8b46760",
   "metadata": {},
   "outputs": [],
   "source": [
    "# Plot first ten captured phases of the first session\n",
    "proc.csi.filter(pl.col(\"session_nr\") == 0).filter(\n",
    "    pl.col(\"sequence_number\") < 10\n",
    ").filter(pl.col(\"schedule_name\").str.contains(\"qca\")).filter(\n",
    "    pl.col(\"collection_name\").str.contains(\"warmup\")\n",
    ").collect().plot.scatter(\n",
    "    x=\"subcarrier_idxs\", y=\"csi_phase\", by=\"collection_name\", groupby=\"receiver_name\"\n",
    ")"
   ]
  },
  {
   "cell_type": "code",
   "execution_count": null,
   "id": "3aaa5bb1-616d-4d0e-afa1-404644316606",
   "metadata": {},
   "outputs": [],
   "source": [
    "proc.csi.filter(pl.col(\"session_nr\") == 2).filter(\n",
    "    pl.col(\"sequence_number\") < 10\n",
    ").filter(pl.col(\"schedule_name\").str.contains(\"qca\")).filter(\n",
    "    ~pl.col(\"collection_name\").str.contains(\"warmup\")\n",
    ").collect().plot.scatter(\n",
    "    x=\"subcarrier_idxs\", y=\"csi_phase\", by=\"collection_name\", groupby=\"receiver_name\"\n",
    ")"
   ]
  },
  {
   "cell_type": "code",
   "execution_count": null,
   "id": "3f6dea2c-3294-409f-8196-b7c932541d96",
   "metadata": {},
   "outputs": [],
   "source": [
    "plot_corr(proc.csi)"
   ]
  },
  {
   "cell_type": "markdown",
   "id": "7c613775-c53d-450e-906d-5c54a1a983bd",
   "metadata": {},
   "source": [
    "## Second Preprocessing: Shape equalization\n",
    "\n",
    "In every experiment, we first run a warmup session with $M=500$ unmodified frames. Afterwards follows our actual run with $1000$ modified frames. From the warmups, we can compute an average shape profile for magnitudes and phases\n",
    "\n",
    "$$\n",
    "\\begin{align}\n",
    "\\bar{\\phi}_i &= \\frac{1}{500} \\sum_{t=1}^{M} \\phi_i(t) \\\\\n",
    "\\bar{A}_i &= \\frac{1}{500} \\sum_{t=1}^{M} A_i(t)\n",
    "\\end{align}\n",
    "$$\n",
    "\n",
    "Then, we equalize on each subcarrier and packet individually to \"flatten\" out the inherent average shape, likely introduced by Filters and similar hardware components.\n",
    "\n",
    "$$\n",
    "\\begin{align}\n",
    "\\varphi_i(t) &\\mapsto \\frac{\\varphi_i(t)}{\\bar{\\phi}_i} \\\\\n",
    "A_i(t) &\\mapsto \\frac{A_i(t)}{\\bar{A}_i}\n",
    "\\end{align}\n",
    "$$"
   ]
  },
  {
   "cell_type": "code",
   "execution_count": null,
   "id": "2ad7e1a4-03d0-45b3-9483-1235a1827e4e",
   "metadata": {},
   "outputs": [],
   "source": [
    "proc = proc.load_checkpoint(\"02_equalized\").meta_attach(\"session_nr\")"
   ]
  },
  {
   "cell_type": "code",
   "execution_count": null,
   "id": "3052861a-2f24-48a7-a9b5-8737519c13da",
   "metadata": {},
   "outputs": [],
   "source": [
    "filtered = proc.csi.filter(pl.col(\"session_nr\") < 3).filter(\n",
    "    pl.col(\"collection_name\").str.contains(\"warmup\")\n",
    ")\n",
    "\n",
    "filtered.collect().plot.scatter(\n",
    "    x=\"subcarrier_idxs\", y=\"csi_abs\", by=\"collection_name\", groupby=\"receiver_name\"\n",
    ")"
   ]
  },
  {
   "cell_type": "code",
   "execution_count": null,
   "id": "482be499-c7cd-4768-bf96-5ab62f60610e",
   "metadata": {},
   "outputs": [],
   "source": [
    "filtered.collect().plot.scatter(\n",
    "    x=\"subcarrier_idxs\", y=\"csi_phase\", by=\"collection_name\", groupby=\"receiver_name\"\n",
    ")"
   ]
  },
  {
   "cell_type": "code",
   "execution_count": null,
   "id": "23ca482c-0db6-45c6-b150-568c0a53fd04",
   "metadata": {},
   "outputs": [],
   "source": [
    "# Subselect a few sessions to plot, otherwise the plot is too convoluted.\n",
    "sessions_to_plot = list(range(10))\n",
    "\n",
    "proc.csi.filter(pl.col(\"session_nr\").is_in(sessions_to_plot)).group_by(\n",
    "    \"receiver_name\", \"collection_name\", \"subcarrier_idxs\", maintain_order=True\n",
    ").agg(pl.col(\"csi_phase\").mean()).collect().plot.line(\n",
    "    x=\"subcarrier_idxs\", y=\"csi_phase\", by=\"collection_name\", groupby=\"receiver_name\"\n",
    ")"
   ]
  },
  {
   "cell_type": "markdown",
   "id": "337219c5-9041-4860-8e6b-3dba862b9e22",
   "metadata": {},
   "source": [
    "## Third Preprocessing\n",
    "\n",
    "Just discarding some stuff to ease visualization (e.g. the warmup sessions)"
   ]
  },
  {
   "cell_type": "code",
   "execution_count": null,
   "id": "aacc6bbd-729e-4d64-b1d7-fc92d89d4be8",
   "metadata": {},
   "outputs": [],
   "source": [
    "proc = proc.load_checkpoint(\"03_filtered\")"
   ]
  },
  {
   "cell_type": "markdown",
   "id": "9249220f-0edd-45d2-a7c1-9919d43b4b97",
   "metadata": {},
   "source": [
    "## Scaling detection\n",
    "\n",
    "Finally, we check how the per-subcarrier scaling is detected. That is, we plot the average detected scaling after all our normalization steps and the applied theoretical scaling. The actual scaling is marked with a box marker, the detected one with a cross. Color-coding is applied for the different scale values"
   ]
  },
  {
   "cell_type": "code",
   "execution_count": null,
   "id": "4e33fe3f-1d94-460e-863e-0a8af276aed5",
   "metadata": {},
   "outputs": [],
   "source": [
    "csi = proc.csi\n",
    "csi.collect().columns\n",
    "\n",
    "csi = csi.join(\n",
    "    proc.meta.select(\"meta_id\", \"scale_factor\", \"modified_idx\"), on=\"meta_id\"\n",
    ").with_columns(pl.col(\"scale_factor\") * np.pi)\n",
    "\n",
    "jump_df = csi.filter(pl.col(\"subcarrier_idxs\") == pl.col(\"modified_idx\")).rename(\n",
    "    {\"csi_phase\": \"post_jump_phase\"}\n",
    ")\n",
    "prej_df = (\n",
    "    csi.filter(pl.col(\"subcarrier_idxs\") == pl.col(\"modified_idx\") - 1)\n",
    "    .rename({\"csi_phase\": \"pre_jump_phase\"})\n",
    "    .select(\n",
    "        \"meta_id\",\n",
    "        \"sequence_number\",\n",
    "        \"pre_jump_phase\",\n",
    "    )\n",
    ")\n",
    "\n",
    "# NOTE: Assumes one antenna and one stream\n",
    "diff = (\n",
    "    jump_df.join(prej_df, on=[\"meta_id\", \"sequence_number\"])\n",
    "    .fill_null(0)\n",
    "    .with_columns(phase_jump=pl.col(\"post_jump_phase\").sub(pl.col(\"pre_jump_phase\")))\n",
    ")\n",
    "\n",
    "mean_diff = (\n",
    "    diff.group_by(\n",
    "        \"schedule_name\",\n",
    "        \"receiver_name\",\n",
    "        \"modified_idx\",\n",
    "        \"scale_factor\",\n",
    "        maintain_order=True,\n",
    "    )\n",
    "    .agg(pl.col(\"phase_jump\").mean())\n",
    "    .collect()\n",
    ")\n",
    "\n",
    "\n",
    "scat1 = mean_diff.plot.scatter(\n",
    "    x=\"modified_idx\",\n",
    "    y=\"phase_jump\",\n",
    "    c=\"scale_factor\",\n",
    "    groupby=\"receiver_name\",\n",
    "    marker=\"x\",\n",
    "    size=10,\n",
    "    cmap=\"rainbow\",\n",
    ")\n",
    "scat2 = mean_diff.plot.scatter(\n",
    "    x=\"modified_idx\",\n",
    "    y=\"scale_factor\",\n",
    "    c=\"scale_factor\",\n",
    "    groupby=\"receiver_name\",\n",
    "    marker=\"s\",\n",
    "    size=10,\n",
    "    cmap=\"rainbow\",\n",
    ")\n",
    "display(scat1 * scat2)"
   ]
  },
  {
   "cell_type": "code",
   "execution_count": null,
   "id": "c67ba4f7-ba10-4b78-8939-3293aba0db0b",
   "metadata": {},
   "outputs": [],
   "source": [
    "mean_diff.sort(\"modified_idx\").plot.violin(\n",
    "    by=\"modified_idx\",\n",
    "    y=\"phase_jump\",\n",
    "    groupby=[\"receiver_name\", \"scale_factor\"],\n",
    "    cmap=\"rainbow\",\n",
    ")"
   ]
  },
  {
   "cell_type": "code",
   "execution_count": null,
   "id": "73c1bd3a-842b-4a1e-9e45-4feceb3a9ddf",
   "metadata": {},
   "outputs": [],
   "source": [
    "mean_diff.sort(\"modified_idx\").plot.box(\n",
    "    by=\"modified_idx\",\n",
    "    y=\"phase_jump\",\n",
    "    groupby=[\"receiver_name\", \"scale_factor\"],\n",
    "    cmap=\"rainbow\",\n",
    ")"
   ]
  },
  {
   "cell_type": "code",
   "execution_count": null,
   "id": "a200d1aa-cc47-4d88-88b1-075bec8530bc",
   "metadata": {},
   "outputs": [],
   "source": []
  }
 ],
 "metadata": {
  "kernelspec": {
   "display_name": "Python 3 (ipykernel)",
   "language": "python",
   "name": "python3"
  },
  "language_info": {
   "codemirror_mode": {
    "name": "ipython",
    "version": 3
   },
   "file_extension": ".py",
   "mimetype": "text/x-python",
   "name": "python",
   "nbconvert_exporter": "python",
   "pygments_lexer": "ipython3"
  }
 },
 "nbformat": 4,
 "nbformat_minor": 5
}
