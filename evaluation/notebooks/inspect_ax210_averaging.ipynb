{
 "cells": [
  {
   "cell_type": "code",
   "execution_count": null,
   "id": "98f79ba7-f588-42bd-92d3-bf61e54d5f7b",
   "metadata": {},
   "outputs": [],
   "source": [
    "import polars as pl\n",
    "from pathlib import Path\n",
    "from sensession.campaign import CampaignProcessor\n",
    "from IPython.display import display\n",
    "import hvplot.polars  # noqa: F401"
   ]
  },
  {
   "cell_type": "code",
   "execution_count": null,
   "id": "f8e5acc6-c39a-4e0b-a512-5d177cd2954d",
   "metadata": {},
   "outputs": [],
   "source": [
    "exp_dir = Path.cwd() / \"..\" / \"..\" / \"data\" / \"ax210_averaging\"\n",
    "data = pl.read_parquet(exp_dir / \"csi.parquet\")\n",
    "meta = pl.read_parquet(exp_dir / \"meta.parquet\")\n",
    "\n",
    "# Equalize data appropriately\n",
    "proc = (\n",
    "    CampaignProcessor(csi=data, meta=meta)\n",
    "    .correct_rssi_by_agc()\n",
    "    .unwrap()\n",
    "    .filter(\"antenna_idxs\", 0)\n",
    "    .detrend_phase()\n",
    "    .scale_magnitude()\n",
    "    .equalize_magnitude()\n",
    "    .equalize_phase()\n",
    "    .drop_contains(\"collection_name\", \"warmup\")\n",
    ")\n",
    "\n",
    "\n",
    "csi = proc.csi.drop(\n",
    "    \"stream_idxs\",\n",
    "    \"antenna_idxs\",\n",
    "    \"rssi\",\n",
    "    \"antenna_rssi\",\n",
    "    \"timestamp\",\n",
    "    \"stream_capture_num\",\n",
    "    \"rx_antenna_capture_num\",\n",
    "    \"capture_num\",\n",
    "    \"collection_name\",\n",
    ")\n",
    "meta = proc.meta\n",
    "\n",
    "with pl.Config(tbl_cols=-1):\n",
    "    display(meta.head())\n",
    "    display(csi.head())"
   ]
  },
  {
   "cell_type": "code",
   "execution_count": null,
   "id": "dd49e2a4-6a23-42ca-8c5c-edda57b06305",
   "metadata": {},
   "outputs": [],
   "source": [
    "proc.csi.hvplot.scatter(\n",
    "    x=\"subcarrier_idxs\", y=\"csi_abs\", groupby=[\"receiver_name\", \"schedule_name\"]\n",
    ")"
   ]
  },
  {
   "cell_type": "code",
   "execution_count": null,
   "id": "073012bf-dde9-4494-a80e-bf0d292f9374",
   "metadata": {},
   "outputs": [],
   "source": [
    "a = proc.csi.filter(pl.col(\"receiver_name\") == \"x310\").hvplot.scatter(\n",
    "    x=\"subcarrier_idxs\", y=\"csi_abs\", groupby=[\"schedule_name\"]\n",
    ")\n",
    "b = proc.csi.filter(pl.col(\"receiver_name\") == \"ax210\").hvplot.scatter(\n",
    "    x=\"subcarrier_idxs\", y=\"csi_abs\", groupby=[\"schedule_name\"]\n",
    ")\n",
    "\n",
    "a * b"
   ]
  },
  {
   "cell_type": "code",
   "execution_count": null,
   "id": "a2a59a0c-e5e6-4d0f-851d-af964f3276cf",
   "metadata": {},
   "outputs": [],
   "source": []
  }
 ],
 "metadata": {
  "kernelspec": {
   "display_name": "Python 3 (ipykernel)",
   "language": "python",
   "name": "python3"
  },
  "language_info": {
   "codemirror_mode": {
    "name": "ipython",
    "version": 3
   },
   "file_extension": ".py",
   "mimetype": "text/x-python",
   "name": "python",
   "nbconvert_exporter": "python",
   "pygments_lexer": "ipython3"
  }
 },
 "nbformat": 4,
 "nbformat_minor": 5
}
