{
 "cells": [
  {
   "cell_type": "code",
   "execution_count": null,
   "id": "98f79ba7-f588-42bd-92d3-bf61e54d5f7b",
   "metadata": {},
   "outputs": [],
   "source": [
    "import polars as pl\n",
    "from pathlib import Path\n",
    "from sensession.processing import CsiProcessor\n",
    "from IPython.display import display"
   ]
  },
  {
   "cell_type": "code",
   "execution_count": null,
   "id": "d7afcbd0-cff3-4da0-8e92-34d094ced647",
   "metadata": {},
   "outputs": [],
   "source": [
    "exp_dir = Path.cwd() / \"..\" / \"..\" / \"data\" / \"base_campaign\"\n",
    "data = pl.read_parquet(exp_dir / \"csi.parquet\")\n",
    "meta = pl.read_parquet(exp_dir / \"meta.parquet\")\n",
    "\n",
    "with pl.Config(tbl_cols=-1):\n",
    "    display(meta.head())\n",
    "    display(data.head())"
   ]
  },
  {
   "cell_type": "code",
   "execution_count": null,
   "id": "f8e5acc6-c39a-4e0b-a512-5d177cd2954d",
   "metadata": {},
   "outputs": [],
   "source": [
    "# Unwrap dataframe appropriately\n",
    "csi = (\n",
    "    data.join(meta.select(\"meta_id\", \"receiver_name\"), on=\"meta_id\")\n",
    "    .filter(pl.col(\"receiver_name\") == \"asus1\")\n",
    "    .head(1)\n",
    ")\n",
    "proc = CsiProcessor(csi=csi, meta=meta).unwrap()"
   ]
  },
  {
   "cell_type": "code",
   "execution_count": null,
   "id": "dd49e2a4-6a23-42ca-8c5c-edda57b06305",
   "metadata": {},
   "outputs": [],
   "source": [
    "example_session_idx = 0\n",
    "example_subc = 3\n",
    "example_sn = 52\n",
    "example_antenna = 0\n",
    "\n",
    "\n",
    "proc.csi.plot.scatter(x=\"subcarrier_idxs\", y=\"csi_abs\")\n",
    "# def csi_amp_plot(df: pl.DataFrame):\n",
    "#     receiver = df.unique(\"receiver_name\")\n",
    "#     n_plots = len(receiver)\n",
    "#     fig, axs = plt.subplots(ncols=n_plots, figsize=(18, 4))\n",
    "#     fig.suptitle(\"Amplitudes of single CSI data point\", fontsize=16)\n",
    "\n",
    "#     for i, (recv, group_df) in enumerate(df.group_by([\"receiver_name\"])):\n",
    "#         sns.lineplot(\n",
    "#             x=\"subcarrier_idxs\",\n",
    "#             y=\"csi_abs\",\n",
    "#             hue=\"receiver_name\",\n",
    "#             data=group_df.to_pandas(),\n",
    "#             legend=\"full\",\n",
    "#             ax=axs[i],\n",
    "#         )\n",
    "#     plt.tight_layout()\n",
    "#     plt.show()\n",
    "\n",
    "\n",
    "# # ----------------------------------------------------------------------------\n",
    "# # Plot some CSI value\n",
    "#     example_df.filter(pl.col(\"sequence_number\") == example_sn).filter(\n",
    "#         pl.col(\"used_antenna_idxs\") == example_antenna\n",
    "#     )\n",
    "# )"
   ]
  },
  {
   "cell_type": "code",
   "execution_count": null,
   "id": "073012bf-dde9-4494-a80e-bf0d292f9374",
   "metadata": {},
   "outputs": [],
   "source": []
  }
 ],
 "metadata": {
  "kernelspec": {
   "display_name": "Python 3 (ipykernel)",
   "language": "python",
   "name": "python3"
  },
  "language_info": {
   "codemirror_mode": {
    "name": "ipython",
    "version": 3
   },
   "file_extension": ".py",
   "mimetype": "text/x-python",
   "name": "python",
   "nbconvert_exporter": "python",
   "pygments_lexer": "ipython3"
  }
 },
 "nbformat": 4,
 "nbformat_minor": 5
}
