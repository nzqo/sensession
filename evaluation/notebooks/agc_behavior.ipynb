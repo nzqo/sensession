{
 "cells": [
  {
   "cell_type": "code",
   "execution_count": null,
   "id": "e78ed0cb-bde9-4bcb-b5f5-56b9a44a0181",
   "metadata": {},
   "outputs": [],
   "source": [
    "# Imports\n",
    "import polars as pl\n",
    "import seaborn as sns\n",
    "import matplotlib.pyplot as plt\n",
    "\n",
    "\n",
    "# Example parameters for this notebook\n",
    "data_dir = \"../data/random_dyncurves_diffspeeds\"\n",
    "\n",
    "slow_curve_file = f\"{data_dir}/slow_curve.parquet\"\n",
    "fast_curve_file = f\"{data_dir}/fast_curve.parquet\"\n",
    "damped_curve_file = f\"{data_dir}/damped_curve.parquet\"\n",
    "\n",
    "slow_db_file = f\"{data_dir}/slow_preprocessed.parquet\"\n",
    "slow_shortpause_db_file = f\"{data_dir}/slow_shortpause_preprocessed.parquet\"\n",
    "fast_db_file = f\"{data_dir}/fast_preprocessed.parquet\"\n",
    "damped_db_file = f\"{data_dir}/damped_preprocessed.parquet\""
   ]
  },
  {
   "cell_type": "code",
   "execution_count": null,
   "id": "5420d9d5-c579-4085-bf66-bed1a2b2f92b",
   "metadata": {},
   "outputs": [],
   "source": [
    "def unwrap_curve(curve_df: pl.DataFrame) -> pl.DataFrame:\n",
    "    # Extract reference curve and the collected one\n",
    "    return curve_df.explode(\"curve\").with_row_index(\"time_idx\")\n",
    "\n",
    "\n",
    "def unwrap_csi(df: pl.DataFrame, subcarrier: int) -> pl.DataFrame:\n",
    "    return (\n",
    "        df.with_row_index(\"antenna_capture_num\")\n",
    "        .explode(\n",
    "            \"subcarrier_idxs\",\n",
    "            \"csi_abs\",\n",
    "            \"csi_phase\",\n",
    "        )\n",
    "        .filter(pl.col(\"subcarrier_idxs\") == subcarrier)\n",
    "        .sort(\"receiver_name\")\n",
    "        .filter((pl.col(\"receiver_name\") != \"qca\") | (pl.col(\"csi_abs\") < 250))\n",
    "    )"
   ]
  },
  {
   "cell_type": "code",
   "execution_count": null,
   "id": "4833d6f4-6115-4dba-8f7d-118b1372fda7",
   "metadata": {},
   "outputs": [],
   "source": [
    "example_subc = 3\n",
    "\n",
    "# -- Read data\n",
    "slow_curve = pl.read_parquet(slow_curve_file)\n",
    "fast_curve = pl.read_parquet(fast_curve_file)\n",
    "damped_curve = pl.read_parquet(damped_curve_file)\n",
    "\n",
    "slow_df = pl.read_parquet(slow_db_file)\n",
    "slow_shortpause_df = pl.read_parquet(slow_shortpause_db_file)\n",
    "fast_df = pl.read_parquet(fast_db_file)\n",
    "damped_df = pl.read_parquet(damped_db_file)\n",
    "\n",
    "# -- Unwrap\n",
    "slow_curve = unwrap_curve(slow_curve)\n",
    "fast_curve = unwrap_curve(fast_curve)\n",
    "damped_curve = unwrap_curve(damped_curve)\n",
    "\n",
    "slow_df = unwrap_csi(slow_df, example_subc)\n",
    "slow_shortpause_df = unwrap_csi(slow_shortpause_df, example_subc)\n",
    "fast_df = unwrap_csi(fast_df, example_subc)\n",
    "damped_df = unwrap_csi(damped_df, example_subc)"
   ]
  },
  {
   "cell_type": "code",
   "execution_count": null,
   "id": "0273449c-13d3-4766-b512-38e2cd152389",
   "metadata": {},
   "outputs": [],
   "source": [
    "def plot_receiver_timeseries(dataframe, curve, key=\"csi_abs\"):\n",
    "    fig, axs = plt.subplots(nrows=3, ncols=2, figsize=(16, 12))\n",
    "\n",
    "    sns.lineplot(\n",
    "        data=curve.to_pandas(),\n",
    "        x=\"time_idx\",\n",
    "        y=\"curve\",\n",
    "        ax=axs[0, 0],\n",
    "    ).set(title=\"Baseline random curve\")\n",
    "\n",
    "    for i, (receiver, group_df) in enumerate(\n",
    "        dataframe.group_by([\"receiver_name\"], maintain_order=True)\n",
    "    ):\n",
    "        ax = axs.flat[i + 1]\n",
    "\n",
    "        sns.lineplot(\n",
    "            x=\"timestamp\",\n",
    "            y=key,\n",
    "            hue=\"subcarrier_idxs\",\n",
    "            data=group_df.to_pandas(),\n",
    "            ax=ax,\n",
    "        ).set(title=f\"{receiver[0]}\")\n",
    "        ax.legend(loc=\"lower right\")\n",
    "\n",
    "    plt.tight_layout()\n",
    "    plt.show()"
   ]
  },
  {
   "cell_type": "code",
   "execution_count": null,
   "id": "740cdecb-088c-45c5-afbf-c364ddfb3b3c",
   "metadata": {},
   "outputs": [],
   "source": [
    "plot_receiver_timeseries(slow_df, slow_curve)"
   ]
  },
  {
   "cell_type": "code",
   "execution_count": null,
   "id": "71d7f869-0b99-4ef1-91de-9a1ed3396123",
   "metadata": {},
   "outputs": [],
   "source": [
    "plot_receiver_timeseries(slow_shortpause_df, slow_curve)"
   ]
  },
  {
   "cell_type": "code",
   "execution_count": null,
   "id": "ecda28ea-4c9b-48ce-8a23-57cd96725005",
   "metadata": {},
   "outputs": [],
   "source": [
    "plot_receiver_timeseries(fast_df, fast_curve)"
   ]
  },
  {
   "cell_type": "code",
   "execution_count": null,
   "id": "6763f51d-4cbe-4989-aded-af77bcd909a8",
   "metadata": {},
   "outputs": [],
   "source": [
    "plot_receiver_timeseries(damped_df, damped_curve)"
   ]
  },
  {
   "cell_type": "code",
   "execution_count": null,
   "id": "61c336cd-0ecc-4be8-aa1b-0bfd75ddbe79",
   "metadata": {},
   "outputs": [],
   "source": [
    "asus = (\n",
    "    damped_df.filter(pl.col(\"receiver_name\").is_in([\"asus\", \"asus2\"]))\n",
    "    .filter(pl.col(\"csi_abs\") > 1550)\n",
    "    .select(\"timestamp\", \"csi_abs\", \"sequence_number\")\n",
    ")\n",
    "print(asus)"
   ]
  },
  {
   "cell_type": "code",
   "execution_count": null,
   "id": "61d9cf94-3bf6-4921-85b4-70fd18f8fe46",
   "metadata": {},
   "outputs": [],
   "source": []
  }
 ],
 "metadata": {
  "kernelspec": {
   "display_name": "Python 3 (ipykernel)",
   "language": "python",
   "name": "python3"
  },
  "language_info": {
   "codemirror_mode": {
    "name": "ipython",
    "version": 3
   },
   "file_extension": ".py",
   "mimetype": "text/x-python",
   "name": "python",
   "nbconvert_exporter": "python",
   "pygments_lexer": "ipython3"
  }
 },
 "nbformat": 4,
 "nbformat_minor": 5
}
